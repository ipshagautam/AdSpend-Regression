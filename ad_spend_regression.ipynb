{
  "cells": [
    {
      "cell_type": "markdown",
      "metadata": {},
      "source": [
        "# AdSpend Regression Predictor \u2014 Ipsha Gautam",
        "\nThis notebook demonstrates multivariate linear regression applied to advertising spend channels to forecast sales. It emphasizes business interpretation of coefficients, residual analysis, and cost-function intuition."
      ]
    },
    {
      "cell_type": "code",
      "execution_count": null,
      "metadata": {},
      "outputs": [],
      "source": [
        "import pandas as pd\nimport numpy as np\nimport matplotlib.pyplot as plt\nfrom sklearn.linear_model import LinearRegression\nfrom sklearn.metrics import mean_squared_error, r2_score\n\n# Load dataset\n\ndf = pd.read_csv('sample_data/ad_spend_data.csv')\ndf.head()\n"
      ]
    },
    {
      "cell_type": "markdown",
      "metadata": {},
      "source": [
        "## Model fitting and interpretation"
      ]
    },
    {
      "cell_type": "code",
      "execution_count": null,
      "metadata": {},
      "outputs": [],
      "source": [
        "X = df[['TV','Radio','Social','Online','Outdoor']]\n",
        "y = df['Sales']\n",
        "model = LinearRegression().fit(X, y)\n",
        "print('Intercept:', model.intercept_)\n",
        "print('Coefficients:', model.coef_)\n"
      ]
    },
    {
      "cell_type": "markdown",
      "metadata": {},
      "source": [
        "## Predicted vs Actual and Residual Analysis"
      ]
    },
    {
      "cell_type": "code",
      "execution_count": null,
      "metadata": {},
      "outputs": [],
      "source": [
        "y_pred = model.predict(X)\n",
        "mse = mean_squared_error(y, y_pred)\n",
        "r2 = r2_score(y, y_pred)\n",
        "print('MSE:', mse, ' R2:', r2)\n",
        "import matplotlib.pyplot as plt\n",
        "plt.figure(figsize=(7,5))\n",
        "plt.scatter(y, y_pred, alpha=0.6)\n",
        "plt.plot([y.min(), y.max()], [y.min(), y.max()], 'r--')\n",
        "plt.xlabel('Actual Sales ($)')\n",
        "plt.ylabel('Predicted Sales ($)')\n",
        "plt.title('Predicted vs Actual Sales \u2014 Ipsha Gautam')\n",
        "plt.show()\n"
      ]
    },
    {
      "cell_type": "markdown",
      "metadata": {},
      "source": [
        "## Cost-function intuition (visualizing MSE over a range of a single coefficient)"
      ]
    },
    {
      "cell_type": "code",
      "execution_count": null,
      "metadata": {},
      "outputs": [],
      "source": [
        "tv_coef = model.coef_[0]\n",
        "slopes = np.linspace(tv_coef-0.001, tv_coef+0.001, 80)\n",
        "costs = []\n",
        "for m in slopes:\n",
        "    coefs = model.coef_.copy()\n",
        "    coefs[0] = m\n",
        "    y_temp = X.values.dot(coefs) + model.intercept_\n",
        "    costs.append(mean_squared_error(y, y_temp))\n",
        "plt.figure(figsize=(7,4))\n",
        "plt.plot(slopes, costs)\n",
        "plt.xlabel('TV Coefficient (slope)')\n",
        "plt.ylabel('MSE')\n",
        "plt.title('Cost vs TV Coefficient \u2014 Ipsha Gautam')\n",
        "plt.show()\n"
      ]
    },
    {
      "cell_type": "markdown",
      "metadata": {},
      "source": [
        "## Business interpretation (concise)"
      ]
    },
    {
      "cell_type": "markdown",
      "metadata": {},
      "source": [
        "- **Intercept** represents baseline expected sales when ad spend across channels is zero. Interpret with caution in real settings.  \n",
        "- **Coefficients** quantify marginal expected change in sales for a unit increase in spend for each channel (e.g., per dollar invested).  \n",
        "- **Residuals analysis** helps detect heteroscedasticity or non-linear patterns that may suggest transformations or different models.  \n"
      ]
    }
  ],
  "metadata": {
    "kernelspec": {
      "display_name": "Python 3",
      "language": "python",
      "name": "python3"
    },
    "language_info": {
      "name": "python",
      "version": "3.8"
    }
  },
  "nbformat": 4,
  "nbformat_minor": 5
}